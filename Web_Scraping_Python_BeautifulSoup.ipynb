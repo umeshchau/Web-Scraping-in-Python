{
  "cells": [
    {
      "cell_type": "code",
      "execution_count": 1,
      "metadata": {
        "id": "yzB9DdyBABmI"
      },
      "outputs": [],
      "source": [
        "#Import req important libraries\n",
        "import pandas as pd\n",
        "import requests\n",
        "from bs4 import BeautifulSoup\n",
        "import numpy as np"
      ]
    },
    {
      "cell_type": "code",
      "execution_count": 2,
      "metadata": {
        "id": "pamFbJ8OAIPQ"
      },
      "outputs": [],
      "source": [
        "# Headers and Web page link\n",
        "\n",
        "headers={'User-Agent':'Mozilla/5.0 (Windows NT 6.3; Win 64 ; x64) Apple WeKit /537.36(KHTML , like Gecko) Chrome/80.0.3987.162 Safari/537.36'}\n",
        "webpage=requests.get('https://www.ambitionbox.com/list-of-companies?page=1', headers=headers).text"
      ]
    },
    {
      "cell_type": "code",
      "execution_count": 3,
      "metadata": {
        "id": "-NKN9wJhAOX3"
      },
      "outputs": [],
      "source": [
        "# BeautifullSoup library widely used for web scraping\n",
        "soup=BeautifulSoup(webpage,'lxml')"
      ]
    },
    {
      "cell_type": "code",
      "execution_count": 4,
      "metadata": {
        "id": "WcaUa7AEAQyZ"
      },
      "outputs": [],
      "source": [
        "#print(soup.prettify())"
      ]
    },
    {
      "cell_type": "code",
      "execution_count": 5,
      "metadata": {
        "colab": {
          "base_uri": "https://localhost:8080/",
          "height": 35
        },
        "id": "Ephh0SnlATJk",
        "outputId": "3c1b0d5f-24a2-434c-bab2-34a5646dde95"
      },
      "outputs": [
        {
          "output_type": "execute_result",
          "data": {
            "text/plain": [
              "'List of companies in India'"
            ],
            "application/vnd.google.colaboratory.intrinsic+json": {
              "type": "string"
            }
          },
          "metadata": {},
          "execution_count": 5
        }
      ],
      "source": [
        "soup.find_all('h1')[0].text"
      ]
    },
    {
      "cell_type": "code",
      "execution_count": 6,
      "metadata": {
        "id": "izGSL8O-AWMC",
        "colab": {
          "base_uri": "https://localhost:8080/"
        },
        "outputId": "70e60a86-9df2-48bb-e20e-6409690f3a16"
      },
      "outputs": [
        {
          "output_type": "stream",
          "name": "stdout",
          "text": [
            "TCS\n",
            "Accenture\n",
            "Cognizant\n",
            "ICICI Bank\n",
            "HDFC Bank\n",
            "Wipro\n",
            "Infosys\n",
            "Capgemini\n",
            "Tech Mahindra\n",
            "Genpact\n",
            "HCLTech\n",
            "Amazon\n",
            "Axis Bank\n",
            "Concentrix Corpo...\n",
            "IBM\n",
            "Reliance Jio\n",
            "Larsen & Toubro ...\n",
            "HDB Financial Se...\n",
            "Vodafone Idea\n",
            "Teleperformance\n",
            "Reliance Retail\n",
            "Kotak Mahindra B...\n",
            "Reliance Industr...\n",
            "Deloitte\n",
            "Bharti Airtel\n",
            "BYJU'S\n",
            "Tata Motors\n",
            "Flipkart\n",
            "WNS\n",
            "IndusInd Bank\n"
          ]
        }
      ],
      "source": [
        "# To find out comanies names (in h2 header)\n",
        "\n",
        "for i in soup.find_all('h2'):\n",
        "  print(i.text.strip())\n"
      ]
    },
    {
      "cell_type": "code",
      "execution_count": 7,
      "metadata": {
        "colab": {
          "base_uri": "https://localhost:8080/"
        },
        "id": "kA2LThWVAafD",
        "outputId": "c7227a2d-3c6b-4d49-b63e-312a13584048"
      },
      "outputs": [
        {
          "output_type": "stream",
          "name": "stdout",
          "text": [
            "AmbitionBox\n",
            "Discover Best Places to work in India\n",
            "AmbitionBox\n",
            "Discover best places to work\n",
            "Compare & find best workplace\n",
            "Read reviews for 6L+ companies\n",
            "Rate your former or current company\n",
            "Discover salaries for 6L+ companies\n",
            "Calculate your take home salary\n",
            "Check your market value\n",
            "Help other jobseekers\n",
            "Read interviews for 40K+ companies\n",
            "Interviews questions for 1K+ colleges\n",
            "Contribute your interview questions\n",
            "Discover Best Places to Work!\n",
            "Company reviews. Salaries. Interviews. Jobs.\n",
            "About Company\n",
            "7,90,023 unique\n",
            "\t\t\tcompanies found\n",
            "Sort By:\n",
            "Popular\n",
            "3.9\n",
            "#6 Best Mega Company - 2021\n",
            "Public\n",
            "Mumbai,Maharashtra + 275 more\n",
            "55 years old\n",
            "1 Lakh+ Employees (India)\n",
            "We ensure the highest levels of certainty and satisfaction through a deep-set commitment to our clients, comprehensive industry expertise and a global network of innovation and delivery centers.\n",
            "\n",
            "We function as a full stakeholder to business, offering a consulting-led approach with an integrated portfolio of technology led solutions that encompass the entire Enterprise value chain. Our Customer-centric Engagement Model defines how we do engage with you, offering specialized services and solutions that meet the distinct needs of your business.\n",
            "\n",
            "We build bespoke teams around your domain and technology requirements drawn from our talent pool of over 488,649 global professionals including 36.5% women from 154 nationalities. Our domain expertise has been built upon decades of experience working across industries and this knowledge underpins our suite of solutions.\n",
            "\n",
            "Our organization structure is domain led and empowered to help provide Customers a single window to industry specific solutions. Agile industry units have embedded capabilities to enable rapid responses that provide a competitive edge to our Customers. This is coupled with a unique Global Network Delivery Model™ (GNDM™), spanning 40 global locations, that is today recognized as the benchmark of excellence in technology deployment.\n",
            "\n",
            "We have made significant investments in Digital platforms and products spanning Technology Products, Horizontal Platforms and Products, Vertical Platforms and Products.\n",
            "4.1\n",
            "#5 Best Mega Company - 2022\n",
            "Public\n",
            "Dublin + 133 more\n",
            "34 years old\n",
            "1 Lakh+ Employees (India)\n",
            "Accenture is a global professional services company with leading capabilities in digital, cloud, and security. Combining unmatched experience and specialized skills across more than 40 industries, we offer Strategy and Consulting, Interactive, Technology, and Operations services — all powered by the world’s largest network of Advanced Technology and Intelligent Operations centers. \n",
            "\n",
            "Our 674,000 people deliver on the promise of technology and human ingenuity every day, serving clients in more than 120 countries. We embrace the power of change to create value and shared success for our clients, people, shareholders, partners, and communities. Visit us at accenture.com.\n",
            "4.0\n",
            "#19 Best Mega Company - 2022\n",
            "Private\n",
            "Teaneck. New Jersey. + 102 more\n",
            "29 years old\n",
            "1 Lakh+ Employees (India)\n",
            "At Cognizant, we give organizations the insights to anticipate what customers want and act instantly to deliver on those demands. So they can achieve the goal of every modern business: staying one step ahead of a fast-changing world.\n",
            "4.0\n",
            "#12 Best Mega Company - 2022\n",
            "Public\n",
            "Mumbai,Maharashtra + 1074 more\n",
            "29 years old\n",
            "1 Lakh+ Employees (India)\n",
            "ICICI Bank is a leading private sector bank in India. The Bank’s consolidated total assets stood at Rs. 14.76 trillion at September 30, 2020.  ICICI Bank currently has a network of 5,288 branches and 13,875 ATMs across India.\n",
            "4.0\n",
            "#12 Best Mega Company - 2022\n",
            "Public\n",
            "Mumbai,Maharashtra + 1295 more\n",
            "29 years old\n",
            "50k-1 Lakh Employees (India)\n",
            "The Housing Development Finance Corporation Limited or HDFC was among the first financial institutions in India to receive an “in principle” approval from the Reserve Bank of India (RBI) to set up a bank in the private sector. This was done as part of RBI’s policy for the liberalization of the Indian banking industry in 1994.\n",
            "\n",
            "HDFC Bank was incorporated in August 1994 in the name of HDFC Bank Limited, with its registered office in Mumbai, India. The bank commenced operations as a Scheduled Commercial Bank in January 1995. As of March 31, 2021, the Bank had a nationwide distribution network of 5,608 branches and 16,087 ATMs in 2,902 cities/towns.\n",
            "3.9\n",
            "#21 Best Mega Company - 2022\n",
            "Public\n",
            "Bangalore/Bengaluru,Karnataka + 229 more\n",
            "78 years old\n",
            "1 Lakh+ Employees (India)\n",
            "Wipro Limited (NYSE: WIT, BSE: 507685, NSE: WIPRO) is a leading global information technology, consulting, and business process services company.\n",
            "\n",
            "We harness the power of cognitive computing, hyper-automation, robotics, cloud, analytics, and emerging technologies to help our clients adapt to the digital world and make them successful.\n",
            "\n",
            "A company recognized globally for its comprehensive portfolio of services, a strong commitment to sustainability, and good corporate citizenship, we have over 243,000 dedicated employees serving clients across six continents.\n",
            "\n",
            "Together, we discover ideas and connect the dots to build a better and bold new future.\n",
            "3.9\n",
            "#19 Best Mega Company - 2022\n",
            "Public\n",
            "Bengaluru/Bangalore,Karnataka + 127 more\n",
            "42 years old\n",
            "1 Lakh+ Employees (India)\n",
            "Infosys is a global leader in next-generation digital services and consulting. Over 300,000 of our people work to amplify human potential and create the next opportunity for people, businesses, and communities. \n",
            "\n",
            "With over four decades of experience in managing the systems and workings of global enterprises, we expertly steer clients, in more than 50 countries, as they navigate their digital transformation powered by the cloud. \n",
            "\n",
            "We enable them with an AI-powered core, empower the business with agile digital at scale and drive continuous improvement with always-on learning through the transfer of digital skills, expertise, and ideas from our innovation ecosystem. We are deeply committed to being a well-governed, environmentally sustainable organization where diverse talent thrives in an inclusive workplace.\n",
            "\n",
            "Our purpose is to amplify human potential and create the next opportunity for people, businesses, and communities.\n",
            "3.9\n",
            "#17 Best Mega Company - 2022\n",
            "Public\n",
            "Paris + 79 more\n",
            "56 years old\n",
            "1 Lakh+ Employees (India)\n",
            "Capgemini is a global leader in partnering with companies to transform and manage their business by harnessing the power of technology. \n",
            "\n",
            "The Group is guided everyday by its purpose of unleashing human energy through technology for an inclusive and sustainable future. It is a responsible and diverse organization of over 350,000 team members in more than 50 countries. \n",
            "\n",
            "With its strong 55 year heritage and deep industry expertise, Capgemini is trusted by its clients to address the entire breadth of their business needs, from strategy and design to operations, fueled by the fast evolving and innovative world of cloud, data, AI, connectivity, software, digital engineering and platforms. \n",
            "\n",
            "The Group reported in 2021 global revenues of €18 billion.\n",
            "\n",
            "Get the Future You Want |  www.capgemini.com/in-en\n",
            "3.7\n",
            "Public\n",
            "Pune,Maharashtra + 213 more\n",
            "37 years old\n",
            "50k-1 Lakh Employees (India)\n",
            "Tech Mahindra offers innovative and customer-centric digital experiences, enabling enterprises, associates, and society to rise. We are a USD 5.1 billion organization with 141,100+ professionals across 90 countries helping 1123 global customers, including Fortune 500 companies. \n",
            "\n",
            "We are focused on leveraging next-generation technologies including 5G, Blockchain, Cybersecurity, Artificial Intelligence, and more, to enable end-to-end digital transformation for global customers. Tech Mahindra is one of the fastest-growing brands and amongst the top 15 IT service providers globally. \n",
            "\n",
            "Tech Mahindra has consistently emerged as a leader in sustainability and is recognized amongst the ‘2021 Global 100 Most sustainable corporations in the World’ by Corporate Knights. With the NXT.NOW™ framework, Tech Mahindra aims to enhance ‘Human Centric Experience’ for our ecosystem and drive collaborative disruption with synergies arising from a robust portfolio of companies. \n",
            "\n",
            "Tech Mahindra aims at delivering tomorrow’s experiences today and believes that the ‘Future is Now.\n",
            "\n",
            "We are part of the Mahindra Group, founded in 1945, one of the largest and most admired multinational federations of companies with 260,000 employees in over 100 countries. It enjoys a leadership position in farm equipment, utility vehicles, information technology, and financial services in India and is the world’s largest tractor company by volume. It has a strong presence in renewable energy, agriculture, logistics, hospitality, and real estate. \n",
            "\n",
            "The Mahindra Group has a clear focus on leading ESG globally, enabling rural prosperity and enhancing urban living, with a goal to drive positive change in the lives of communities and stakeholders to enable them to rise.\n",
            "4.0\n",
            "#15 Best Mega Company - 2022\n",
            "Public\n",
            "New York,New York + 69 more\n",
            "26 years old\n",
            "50k-1 Lakh Employees (India)\n",
            "Genpact (NYSE: G) is a global professional services firm delivering business outcomes that transform industries and shape the future. Fusing real-world expertise and collaborative innovation, we make businesses work better – breaking down boundaries, creating simplicity from complexity, and building ecosystems of impact. \n",
            "\n",
            "Guided by our experience reinventing and running thousands of processes for hundreds of companies, our Global Fortune 500 clients come to us for digital-led innovation and digitally-enabled operations that dig deep into data to turn insight into action. \n",
            "\n",
            "And we do it all with purpose. From New York to New Delhi and more than 30 countries in between, our 100,000+ team is passionate about our relentless pursuit of a world that works better for people.\n",
            "\n",
            "Genpact began in 1997 as a business unit within General Electric. Then, in January 2005, we became an independent company, bringing our process expertise and unique DNA in Lean management to more companies. \n",
            "\n",
            "We became a publicly traded company in 2007. Since December 31, 2005, we have expanded from 19,000+ employees and annual revenues of $491.90 million to 100,000+ employees and annual revenues of $4.0 billion as of December 31, 2021.\n",
            "3.8\n",
            "#13 Best Mega Company - 2021\n",
            "Public\n",
            "Noida,Uttar Pradesh + 141 more\n",
            "32 years old\n",
            "1 Lakh+ Employees (India)\n",
            "HCLTech is a global technology company, home to 222,270+ people across 60 countries, delivering industry-leading capabilities centered around digital, engineering and cloud powered by a broad portfolio of technology services and products. We work with clients across all major verticals, providing industry solutions for Financial Services, Manufacturing, Life Sciences and Healthcare, Technology and Services, Telecom and Media, Retail and CPG, and Public Services.\n",
            "\n",
            "Our purpose is to bring together the best of technology and our people to supercharge progress. We’re supercharging progress for everyone, everywhere – our clients, partners and their stakeholders, our people, communities, and the planet.\n",
            "\n",
            "Part of the HCL group, HCLTech was listed on the stock exchanges in India at the turn of the millennium in December, 1999. Since our inception, we pioneered several industry mainstays and established leadership position in all our chosen segments.\n",
            "\n",
            "As a company we are deeply focused on accelerating our ESG agenda. We are also creating technology-enabled sustainable solutions with and for our clients and partners. We embed ESG imperatives into every aspect of our business and ensure that the progress we supercharge is responsible, inclusive and beneficial to all our stakeholders in the long-term. We have committed to achieving net-zero by 2040.\n",
            "\n",
            "We recognize the impact that a business like ours can deliver in elevating communities globally, and we continue to improve our efforts and take decisive actions that benefit communities in which we work and live. Through the HCL Foundation, the CSR arm of HCLTech, we have invested more than $130 million in social development efforts serving communities throughout India across education, health, water, sanitation and hygiene, skill development and livelihoods, environment, and disaster risk reduction, response and management.\n",
            "\n",
            "We’re powered by our people – a global, diverse, multi-generational talent - representing 167 nationalities whose unique spark, perspective and boundless passion drive our culture of proactive value creation and problem-solving. \n",
            " \n",
            "Consolidated revenues as of 12 months ending December 31, 2022 totaled $12.3 billion. To learn how we can supercharge progress for you, visit hcltech.com.\n",
            "4.2\n",
            "#1 Best Mega Company - 2022\n",
            "Public\n",
            "Seattle,Washington + 387 more\n",
            "29 years old\n",
            "1 Lakh+ Employees (India)\n",
            "Amazon is guided by four principles: customer obsession rather than competitor focus, passion for invention, commitment to operational excellence, and long-term thinking. \n",
            "\n",
            "We are driven by the excitement of building technologies, inventing products, and providing services that change lives. We embrace new ways of doing things, make decisions quickly, and are not afraid to fail. We have the scope and capabilities of a large company and the spirit and heart of a small one. \n",
            "\n",
            "Together, Amazonians research and develop new technologies from Amazon Web Services to Alexa on behalf of our customers: shoppers, sellers, content creators, and developers around the world. \n",
            "\n",
            "Our mission is to be Earth's most customer-centric company. Our actions, goals, projects, programs, and inventions begin and end with the customer's top of mind. \n",
            "\n",
            "You'll also hear us say that at Amazon, it's always \"Day 1.\"​ What do we mean? That our approach remains the same as it was on Amazon's very first day - to make smart, fast decisions, stay nimble, invent, and focus on delighting our customers.\n",
            "3.9\n",
            "#15 Best Mega Company - 2021\n",
            "Public\n",
            "Mumbai,Maharashtra + 1124 more\n",
            "30 years old\n",
            "50k-1 Lakh Employees (India)\n",
            "Axis Bank is the third largest private sector bank in India. The Bank offers the entire spectrum of financial services to customer segments covering Large and Mid-Corporates, MSME, Agriculture and Retail Businesses.\n",
            "\n",
            "The Bank has a large footprint of 4,050 domestic branches (including extension counters) with 11,801 ATMs & 4,917 cash recyclers spread across the country as on 31st March, 2019. The overseas operations of the Bank are spread over nine international offices with branches at Singapore, Hong Kong, Dubai (at the DIFC), Colombo and Shanghai; representative offices at Dhaka, Dubai, Abu Dhabi and an overseas subsidiary at London, UK. The international offices focus on corporate lending, trade finance, syndication, investment banking and liability businesses.\n",
            "4.0\n",
            "#4 Best Mega Company - 2021\n",
            "Public\n",
            "Fremont,California + 70 more\n",
            "40 years old\n",
            "10k-50k Employees (India)\n",
            "Concentrix is a technology-enabled global business services company specializing in customer engagement and improving business performance. We partner with ambitious, progressive executives around the world to future-proof their business and stay ahead of the competition and customer expectations.It’s all about tapping into sentiment and building an emotional connection that keeps customers and staff fanatical about your brand. That’s where we come in—we create exceptional customer engagement, accelerate digital transformation, and deliver actionable CX insights.\n",
            "4.2\n",
            "#4 Best Mega Company - 2022\n",
            "Public\n",
            "Armonk,New York + 121 more\n",
            "112 years old\n",
            "1 Lakh+ Employees (India)\n",
            "IBMers believe in progress—that the application of intelligence, reason and science can improve business, society and the human condition\n",
            "\n",
            "IBM has developed a thoughtful, comprehensive approach to corporate citizenship that we believe aligns with IBM’s values and maximised the impact we can make as a global enterprise. We focus on specific societal issues, including the environment, community economic development, education and skills, public health, literacy, language and culture.\n",
            "\n",
            "The mission of India CSR is to foster life-long learning opportunities across India through streamlined initiatives that cut pathways across education [access], skills/employability [inclusion], and employment [equity and quality].\n",
            "\n",
            "IBM’s greatest asset is the IBMer. We believe our strength lies in the diversity of our employees. IBM encourages creative pursuits and passions outside of work, because when IBMers can explore their curiosity, it gives all of us a new outlook on the world and its possibilities for emerging tech. Together, IBM can drive progress through meaningful innovation and action.\n",
            "\n",
            "The new generation of hybrid cloud enables you to build once, deploy anywhere and manage it all from a single pane of glass. So your business can adapt and transform like never before.\n",
            "4.0\n",
            "Public\n",
            "Navi Mumbai,Maharashtra + 1021 more\n",
            "16 years old\n",
            "50k-1 Lakh Employees (India)\n",
            "Jio is a young and dynamic organization with a mission to digitally transform India. We believe in making dreams a reality by bringing out creativity and innovation in our employees. We have a host of initiatives through which we care for our employees throughout their life at Jio. \n",
            "\n",
            "Given ahead are our philosophies behind building a working environment that supports our employees in achieving the impossible every day.\n",
            "4.1\n",
            "Public\n",
            "Mumbai,Maharashtra + 537 more\n",
            "77 years old\n",
            "10k-50k Employees (India)\n",
            "Larsen & Toubro is an Indian multinational engaged in EPC Projects, Hi-Tech Manufacturing and Services. It operates in over 50 countries worldwide. A strong, customer-focused approach and the constant quest for top-class quality have enabled L&T to attain and sustain leadership in its major lines of business for over eight decades.\n",
            "\n",
            "We are engaged in core, high impact sectors of the economy and our integrated capabilities span the entire spectrum of ‘design to delivery’.\n",
            "\n",
            "Every aspect of L&T's businesses is characterised by professionalism and high standards of corporate governance. Sustainability is embedded into our long-term strategy for growth.\n",
            "\n",
            "The Company’s manufacturing footprint extends across eight countries in addition to India. L&T has several international offices and a supply chain that extends around the globe.\n",
            "4.0\n",
            "#1 Best Mega Financial Services Company - 2022\n",
            "Private\n",
            "Ahmedabad,Gujrat + 814 more\n",
            "16 years old\n",
            "1 Lakh+ Employees (India)\n",
            "HDB Financial Services (HDBFS) is a leading Non-Banking Financial Company (NBFC) that caters to the growing needs of an Aspirational India, serving both Individual & Business Clients.\n",
            "\n",
            "Incorporated in 2007, we are a well-established business with strong capitalization. HDBFS is accredited with CARE AAA & CRISIL AAA ratings for its long-term debt & Bank facilities and an A1+ rating for its short-term debt & commercial papers, making it a strong and reliable financial institution.\n",
            "\n",
            "HDBFS maintains a strong commitment to ethical conduct. Transparency is ingrained in the structure of our Code of Ethics and our compliance policies to ensure that the highest standards of professional conduct are consistently reinforced and embedded in every corner of the organisation.\n",
            "4.2\n",
            "Public\n",
            "Gandhinagar,Gujrat + 578 more\n",
            "5 years old\n",
            "10k-50k Employees (India)\n",
            "Vodafone Idea Limited is an Aditya Birla Group and Vodafone Group partnership. It is India’s leading telecom service provider. The Company provides pan India Voice and Data services across 2G, 3G and 4G platform. With the large spectrum portfolio to support the growing demand for data and voice, the company is committed to deliver delightful customer experiences and contribute towards creating a truly ‘Digital India’ by enabling millions of citizens to connect and build a better tomorrow. The Company is developing infrastructure to introduce newer and smarter technologies, making both retail and enterprise customers future ready with innovative offerings, conveniently accessible through an ecosystem of digital channels as well as extensive on-ground presence. The Company is listed on National Stock Exchange (NSE) and Bombay Stock Exchange (BSE) in India.\n",
            "3.6\n",
            "Private\n",
            "Paris + 122 more\n",
            "45 years old\n",
            "50k-1 Lakh Employees (India)\n",
            "Teleperformance is the agile business services partner that companies need in this digital world.\n",
            "For over 40 years, Teleperformance has been connecting customers with the world’s most successful companies. It is the global leader in customer experience outsourcing management and the trusted provider of digitally integrated business services.\n",
            "At Teleperformance, we combine human touch and high technology to deliver extraordinary customer experiences. While technology creates new and agile ways of working, our interaction experts remain committed to creating unique connections through empathy, adaptive communication skills, and more importantly, a passion to make it happen.\n",
            "4.1\n",
            "#1 Best Mega Retail Company - 2022\n",
            "Private\n",
            "Navi Mumbai,Maharashtra + 740 more\n",
            "17 years old\n",
            "1 Lakh+ Employees (India)\n",
            "Reliance Retail is India's largest, fastest-growing, and most profitable retailer with a diversified Omni-channel presence via integrated store concepts, and digital and new commerce platforms. We provide consumers with an outstanding value proposition, superior quality products, and an unmatched shopping experience.\n",
            "\n",
            "Founded in 2006 with a view to revolutionizing retail in India, we have, over the years, developed and perfected our capabilities across people, processes, and technology to meet our end objectives of creating a win-win proposition for our stakeholders across the value chain viz. Customers, Manufacturers/Farmers, Merchants, and Brand Partners as well as enhancing financial income and job security for tens of millions of Indians.\n",
            "\n",
            "Today, Reliance Retail serves a loyal customer base of more than 193 million across the country, catering to daily and occasional needs across the major consumption baskets of Consumer Electronics, Fashion & Lifestyle, Grocery, Pharma, and Connectivity. We operate the largest store network in the country with 15,000+ stores, spread over 42 million square feet of retail space, and present across 7,000+ cities. Our Omni-enabled store networks and extensive portfolio of digital commerce platforms bolstered by a strong supply chain and technology infrastructure, and supported by a well-trained workforce enable us to provide customer service par excellence.\n",
            "\n",
            "We continue to build our capabilities through organic growth, acquisitions, partnerships, and strategic investments to strengthen our competencies and bolster our product offerings. Our strong own brand portfolio is complemented by an equally strong brand partner portfolio, as Reliance Retail continues to be the partner of choice for leading national and international brands.\n",
            "\n",
            "Reliance Retail’s New Commerce initiative designed to boost the digital ecosystem for millions of partner merchants and MSMEs has enabled lakhs of small merchants to connect with a huge consumer base and embodies our commitment to bettering lives and creating value for the entire ecosystem.\n",
            "3.9\n",
            "#23 Best Mega Company - 2022\n",
            "Public\n",
            "Mumbai,Maharashtra + 481 more\n",
            "20 years old\n",
            "10k-50k Employees (India)\n",
            "In February 2003, Kotak Mahindra Finance Ltd. (KMFL), the Group's flagship company, received banking license from the Reserve Bank of India (RBI), becoming the first non-banking finance company in India to convert into a bank - Kotak Mahindra Bank Ltd.\n",
            "Effective April 1, 2015, ING Vysya Bank Ltd. merged with Kotak Mahindra Bank Ltd. \n",
            "The Bank has four Strategic Business Units – Consumer Banking, Corporate Banking, Commercial Banking and Treasury, which cater to retail and corporate customers across urban and rural India.\n",
            "\n",
            "The Group offers a wide range of financial services that encompass every sphere of life. From commercial banking, to stock broking, mutual funds, life insurance and investment banking, the Group caters to the diverse financial needs of individuals and the corporate sector. The Group has a wide distribution network through branches and franchisees across India, and international offices in London, New York, California, Dubai, Abu Dhabi, Bahrain, Mauritius and Singapore.\n",
            "4.1\n",
            "#11 Best Mega Company - 2022\n",
            "Public\n",
            "Navi Mumbai,Maharashtra + 521 more\n",
            "50 years old\n",
            "10k-50k Employees (India)\n",
            "Our motto “Growth is Life” aptly captures the ever-evolving spirit of Reliance. We have evolved from being a textiles and polyester company to an integrated player across energy, materials, retail, entertainment, and digital services. In each of these areas, we are committed to innovation-led, exponential growth. Our vision has pushed us to achieve global leadership in many of our businesses.\n",
            "\n",
            "Reliance's products and services portfolio touch almost all Indians on a daily basis, across economic and social spectrums. We are now focused on building platforms that will herald the Fourth Industrial Revolution and will create opportunities and avenues for India and all its citizens to realize their true potential.\n",
            "4.1\n",
            "#9 Best Mega Company - 2022\n",
            "Private\n",
            "New York,New York + 132 more\n",
            "178 years old\n",
            "10k-50k Employees (India)\n",
            "Deloitte drives progress. Our firms around the world help clients become leaders wherever they choose to compete. Deloitte invests in outstanding people of diverse talents and backgrounds and empowers them to achieve more than they could elsewhere. Our work combines advice with action and integrity. We believe that when our clients and society are stronger, so are we. \n",
            "\n",
            "Deloitte refers to one or more of Deloitte Touche Tohmatsu Limited (“DTTL”), its global network of member firms, and their related entities. DTTL (also referred to as “Deloitte Global”) and each of its member firms are legally separate and independent entities. DTTL does not provide services to clients.\n",
            "4.1\n",
            "Public\n",
            "Gurgaon/Gurugram,Haryana + 540 more\n",
            "28 years old\n",
            "10k-50k Employees (India)\n",
            "Bharti Airtel Limited is a leading global telecommunications company with operations in 18 countries across Asia and Africa. Headquartered in New Delhi, India, the company ranks amongst the top 3 mobile service providers globally in terms of subscribers. \n",
            "\n",
            "In India, the company's product offerings include 2G, 3G and 4G wireless services, mobile commerce, fixed line services, high-speed home broadband, DTH, and enterprise services including national & international long-distance services to carriers. In the rest of the geographies, it offers 2G, 3G, and 4G wireless services and mobile commerce. \n",
            "\n",
            "Bharti Airtel had over 403 million customers across its operations at the end of March 2019.\n",
            "3.4\n",
            "Private\n",
            "Bangalore,Karnataka + 264 more\n",
            "12 years old\n",
            "1k-5k Employees (India)\n",
            "BYJU'S is the world's most valuable ed-tech company and the creator of India's most loved school learning app. Launched in 2015, BYJU'S offers highly personalised and effective learning programs for classes 1 - 12 (K-12), and aspirants of competitive exams like JEE, IAS etc. With 50 million registered students and 3.5 million paid subscriptions, BYJU'S has become one of the most preferred education platforms across the globe.\n",
            "4.1\n",
            "#2 Best Mega Company - 2021\n",
            "Public\n",
            "Pune,Maharashtra + 394 more\n",
            "78 years old\n",
            "10k-50k Employees (India)\n",
            "Tata Motors Group (Tata Motors) is a $34 billion organization. It is a leading global automobile manufacturing company. Its diverse portfolio includes an extensive range of cars, sports utility vehicles, trucks, buses, and defence vehicles. \n",
            "\n",
            "Tata Motors is one of India's largest OEMs offering an extensive range of integrated, smart, and e-mobility solutions. Part of the USD110 billion Tata group founded by Jamsetji Tata in 1868, Tata Motors is among the world’s leading manufacturers of automobiles. \n",
            "\n",
            "We believe in ‘Connecting aspirations’, by offering innovative mobility solutions that are in line with customers' aspirations. We are India's largest automobile manufacturer, and we continue to take the lead in shaping the Indian commercial vehicle landscape, with the introduction of leading-edge powertrains and electric solutions packaged for power performances and user comfort at the lowest life-cycle costs. \n",
            "\n",
            "Our new passenger cars and utility vehicles are based on Impact Design and offer a superior blend of performance, driveability, and connectivity.\n",
            "\n",
            "Our focus on connecting aspirations and our pipeline of tech-enabled products keeps us at the forefront of the market. We have identified six key mobility drivers that will lead us into the future – modular architecture, complexity reduction in manufacturing, connected & autonomous vehicles, clean drivelines, shared mobility, and low total cost of ownership. \n",
            "\n",
            "Our sub-brand TAMO is an incubating centre of innovation that will spark new mobility solutions through new technologies, business models, and partnerships.\n",
            "4.2\n",
            "#2 Best Mega Internet/Product Company - 2022\n",
            "Public\n",
            "Bangalore,Karnataka + 464 more\n",
            "16 years old\n",
            "10k-50k Employees (India)\n",
            "The Flipkart Group is one of India’s leading digital commerce entities and includes group companies Flipkart, Myntra, and Jabong. Launched in 2007, Flipkart has enabled millions of consumers, sellers, merchants and small businesses to be a part of India’s e-commerce revolution. With a registered customer base of over 100 million, offering over 80 million products across 80+ categories, Flipkart is known for pioneering services such as Cash on Delivery, No Cost EMI and easy returns – customer-centric innovations that have made online shopping more accessible and affordable for millions of Indians. Together with Myntra and Jabong, which hold prominent positions in the online fashion market, the Flipkart Group has steered the transformation of commerce in India through technology.\n",
            "3.7\n",
            "Private\n",
            "Mumbai,Maharashtra + 24 more\n",
            "27 years old\n",
            "10k-50k Employees (India)\n",
            "WNS Limited is a leading Business Process Management (BPM) company. WNS combines deep industry knowledge with technology, analytics, and process expertise to co-create innovative, digitally-led transformational solutions with over 375 clients across various industries. \n",
            "WNS delivers an entire spectrum of BPM solutions including industry-specific offerings, customer experience services, finance and accounting, human resources, procurement, and research and analytics to re-imagine the digital future of businesses. As of December 31, 2021, WNS had 49,610 professionals across 55 delivery centers worldwide including facilities in China, Costa Rica, India, the Philippines, Poland, Romania, South Africa, Spain, Sri Lanka, Turkey, the United Kingdom, and the United States.\n",
            "3.8\n",
            "Public\n",
            "Gurgaon/Gurugram,Haryana + 578 more\n",
            "29 years old\n",
            "10k-50k Employees (India)\n",
            "IndusInd Bank is a Mumbai based scheduled private bank founded in Mumbai in April 1994. This bank offers a wide range of banking as well as financial products and services to the customers and is headquartered in Mumbai, Maharashtra. The bank has over 745 branches with a total network of over 1635 operating ATMs. It has two representative offices outside India in London and Dubai respectively.\n",
            "IndusInd Bank stands tall today as one of the reputed banking brands in the country. The bank has been continuously investing in various advertising & marketing programs to enhance the brand image & recall. In an endeavor to emerge as best-in-class brand, IndusInd Bank has made 'Responsive Innovation' as a central theme of its brand building program. The Bank has combined responsiveness with innovation to launch a wide range of banking products and services which are unique, convenient and very relevant to Indian consumer.\n",
            "Helping over\n",
            "\t\t\t\t\t\t\t\t\t85 Lakh\n",
            "\t\t\t\t\t\t\t\t\tjob seekers every month in choosing their right fit company\n",
            "Reviews\n",
            "Salaries\n",
            "Interviews\n",
            "Users/Month\n",
            "About Company\n",
            "Made with ❤️ in India. Trademarks belong to their respective owners. All\n",
            "\t\t\t\t\trights reserved © 2023 Info Edge (India) Ltd.\n"
          ]
        }
      ],
      "source": [
        "# To find all info of all companies (in p header)\n",
        "\n",
        "for i in soup.find_all('p'):\n",
        "  print(i.text.strip())"
      ]
    },
    {
      "cell_type": "code",
      "execution_count": 8,
      "metadata": {
        "colab": {
          "base_uri": "https://localhost:8080/"
        },
        "id": "SYw4DeLlAex1",
        "outputId": "83284098-e1b5-44cd-ed83-8bafe0f557b2"
      },
      "outputs": [
        {
          "output_type": "execute_result",
          "data": {
            "text/plain": [
              "30"
            ]
          },
          "metadata": {},
          "execution_count": 8
        }
      ],
      "source": [
        "# To find out the ratings\n",
        "len(soup.find_all('p',class_='rating'))"
      ]
    },
    {
      "cell_type": "code",
      "execution_count": 9,
      "metadata": {
        "colab": {
          "base_uri": "https://localhost:8080/"
        },
        "id": "JMEipGAmAlae",
        "outputId": "28a576e4-05c9-4d7a-8200-9c03798cd572"
      },
      "outputs": [
        {
          "output_type": "execute_result",
          "data": {
            "text/plain": [
              "30"
            ]
          },
          "metadata": {},
          "execution_count": 9
        }
      ],
      "source": [
        "# To find out the no. of reviews\n",
        "len(soup.find_all('a' , class_='review-count'))"
      ]
    },
    {
      "cell_type": "code",
      "execution_count": 10,
      "metadata": {
        "id": "2LCXa2QkAnqR"
      },
      "outputs": [],
      "source": [
        "company=soup.find_all('div',class_='company-content-wrapper')"
      ]
    },
    {
      "cell_type": "code",
      "execution_count": 11,
      "metadata": {
        "colab": {
          "base_uri": "https://localhost:8080/"
        },
        "id": "9dmQWrCYApw3",
        "outputId": "c212c170-126f-446f-c92f-f59236ccb1f1"
      },
      "outputs": [
        {
          "output_type": "execute_result",
          "data": {
            "text/plain": [
              "30"
            ]
          },
          "metadata": {},
          "execution_count": 11
        }
      ],
      "source": [
        "len(company)"
      ]
    },
    {
      "cell_type": "code",
      "execution_count": 12,
      "metadata": {
        "id": "B3Xej0E0As2d"
      },
      "outputs": [],
      "source": [
        "# Create new list for name, rating, reviews etc... of the companies.\n",
        "name=[]\n",
        "rating=[]\n",
        "reviews=[]\n",
        "ctype=[]\n",
        "hq=[]\n",
        "how_old=[]\n",
        "no_of_employee=[]\n",
        "\n",
        "for i in company:\n",
        "\n",
        "  name.append(i.find('h2').text.strip())\n",
        "  rating.append(i.find('p',class_='rating').text.strip())\n",
        "  reviews.append(i.find('a' , class_='review-count').text.strip())\n",
        "  ctype.append(i.find_all('p',class_='infoEntity')[0].text.strip())\n",
        "  hq.append(i.find_all('p',class_='infoEntity')[1].text.strip())\n",
        "  how_old.append(i.find_all('p',class_='infoEntity')[2].text.strip())\n",
        "  no_of_employee.append(i.find_all('p',class_='infoEntity')[3].text.strip())\n",
        "\n",
        "df=pd.DataFrame({'name':name,\n",
        "   'rating':rating,\n",
        "   'reviews':reviews,\n",
        "   'company_type':ctype,\n",
        "   'Head_Quarters':hq,\n",
        "   'Company_Age':how_old,\n",
        "   'No_of_Employee':no_of_employee,\n",
        "   })"
      ]
    },
    {
      "cell_type": "code",
      "execution_count": 13,
      "metadata": {
        "colab": {
          "base_uri": "https://localhost:8080/"
        },
        "id": "tAvXGLdeAzyc",
        "outputId": "f2ff35b1-87a1-4f3c-8601-9cbcac88a3c9"
      },
      "outputs": [
        {
          "output_type": "execute_result",
          "data": {
            "text/plain": [
              "['TCS',\n",
              " 'Accenture',\n",
              " 'Cognizant',\n",
              " 'ICICI Bank',\n",
              " 'HDFC Bank',\n",
              " 'Wipro',\n",
              " 'Infosys',\n",
              " 'Capgemini',\n",
              " 'Tech Mahindra',\n",
              " 'Genpact',\n",
              " 'HCLTech',\n",
              " 'Amazon',\n",
              " 'Axis Bank',\n",
              " 'Concentrix Corpo...',\n",
              " 'IBM',\n",
              " 'Reliance Jio',\n",
              " 'Larsen & Toubro ...',\n",
              " 'HDB Financial Se...',\n",
              " 'Vodafone Idea',\n",
              " 'Teleperformance',\n",
              " 'Reliance Retail',\n",
              " 'Kotak Mahindra B...',\n",
              " 'Reliance Industr...',\n",
              " 'Deloitte',\n",
              " 'Bharti Airtel',\n",
              " \"BYJU'S\",\n",
              " 'Tata Motors',\n",
              " 'Flipkart',\n",
              " 'WNS',\n",
              " 'IndusInd Bank']"
            ]
          },
          "metadata": {},
          "execution_count": 13
        }
      ],
      "source": [
        "# Name of the companies\n",
        "name"
      ]
    },
    {
      "cell_type": "code",
      "execution_count": 14,
      "metadata": {
        "colab": {
          "base_uri": "https://localhost:8080/"
        },
        "id": "vPd8fbuHA4z2",
        "outputId": "8a513e87-eb58-4c87-d4c6-729e8aadca2b"
      },
      "outputs": [
        {
          "output_type": "execute_result",
          "data": {
            "text/plain": [
              "['(53.4k Reviews)',\n",
              " '(33.8k Reviews)',\n",
              " '(31.1k Reviews)',\n",
              " '(35.1k Reviews)',\n",
              " '(41.3k Reviews)',\n",
              " '(30.4k Reviews)',\n",
              " '(29.7k Reviews)',\n",
              " '(25.1k Reviews)',\n",
              " '(22.6k Reviews)',\n",
              " '(20.3k Reviews)',\n",
              " '(19.5k Reviews)',\n",
              " '(19.9k Reviews)',\n",
              " '(19.4k Reviews)',\n",
              " '(15.6k Reviews)',\n",
              " '(15.8k Reviews)',\n",
              " '(15.4k Reviews)',\n",
              " '(25.1k Reviews)',\n",
              " '(13.9k Reviews)',\n",
              " '(13.5k Reviews)',\n",
              " '(15.1k Reviews)',\n",
              " '(17.9k Reviews)',\n",
              " '(14.1k Reviews)',\n",
              " '(47k Reviews)',\n",
              " '(10.8k Reviews)',\n",
              " '(12.8k Reviews)',\n",
              " '(14.1k Reviews)',\n",
              " '(12.3k Reviews)',\n",
              " '(12.6k Reviews)',\n",
              " '(7.3k Reviews)',\n",
              " '(6.9k Reviews)']"
            ]
          },
          "metadata": {},
          "execution_count": 14
        }
      ],
      "source": [
        "# Company reviews\n",
        "reviews"
      ]
    },
    {
      "cell_type": "code",
      "execution_count": 15,
      "metadata": {
        "colab": {
          "base_uri": "https://localhost:8080/"
        },
        "id": "sN5Q_vkVA80U",
        "outputId": "e596503a-e7ca-492f-a383-7d08a1647321"
      },
      "outputs": [
        {
          "output_type": "execute_result",
          "data": {
            "text/plain": [
              "['Public',\n",
              " 'Public',\n",
              " 'Private',\n",
              " 'Public',\n",
              " 'Public',\n",
              " 'Public',\n",
              " 'Public',\n",
              " 'Public',\n",
              " 'Public',\n",
              " 'Public',\n",
              " 'Public',\n",
              " 'Public',\n",
              " 'Public',\n",
              " 'Public',\n",
              " 'Public',\n",
              " 'Public',\n",
              " 'Public',\n",
              " 'Private',\n",
              " 'Public',\n",
              " 'Private',\n",
              " 'Private',\n",
              " 'Public',\n",
              " 'Public',\n",
              " 'Private',\n",
              " 'Public',\n",
              " 'Private',\n",
              " 'Public',\n",
              " 'Public',\n",
              " 'Private',\n",
              " 'Public']"
            ]
          },
          "metadata": {},
          "execution_count": 15
        }
      ],
      "source": [
        "# Company type\n",
        "ctype"
      ]
    },
    {
      "cell_type": "code",
      "execution_count": 16,
      "metadata": {
        "colab": {
          "base_uri": "https://localhost:8080/"
        },
        "id": "AZs5CNw8BAnZ",
        "outputId": "fe07ccc1-247b-44d5-d9a6-bf456714df15"
      },
      "outputs": [
        {
          "output_type": "execute_result",
          "data": {
            "text/plain": [
              "['Mumbai,Maharashtra + 275 more',\n",
              " 'Dublin + 133 more',\n",
              " 'Teaneck. New Jersey. + 102 more',\n",
              " 'Mumbai,Maharashtra + 1074 more',\n",
              " 'Mumbai,Maharashtra + 1295 more',\n",
              " 'Bangalore/Bengaluru,Karnataka + 229 more',\n",
              " 'Bengaluru/Bangalore,Karnataka + 127 more',\n",
              " 'Paris + 79 more',\n",
              " 'Pune,Maharashtra + 213 more',\n",
              " 'New York,New York + 69 more',\n",
              " 'Noida,Uttar Pradesh + 141 more',\n",
              " 'Seattle,Washington + 387 more',\n",
              " 'Mumbai,Maharashtra + 1124 more',\n",
              " 'Fremont,California + 70 more',\n",
              " 'Armonk,New York + 121 more',\n",
              " 'Navi Mumbai,Maharashtra + 1021 more',\n",
              " 'Mumbai,Maharashtra + 537 more',\n",
              " 'Ahmedabad,Gujrat + 814 more',\n",
              " 'Gandhinagar,Gujrat + 578 more',\n",
              " 'Paris + 122 more',\n",
              " 'Navi Mumbai,Maharashtra + 740 more',\n",
              " 'Mumbai,Maharashtra + 481 more',\n",
              " 'Navi Mumbai,Maharashtra + 521 more',\n",
              " 'New York,New York + 132 more',\n",
              " 'Gurgaon/Gurugram,Haryana + 540 more',\n",
              " 'Bangalore,Karnataka + 264 more',\n",
              " 'Pune,Maharashtra + 394 more',\n",
              " 'Bangalore,Karnataka + 464 more',\n",
              " 'Mumbai,Maharashtra + 24 more',\n",
              " 'Gurgaon/Gurugram,Haryana + 578 more']"
            ]
          },
          "metadata": {},
          "execution_count": 16
        }
      ],
      "source": [
        "# Headquarters of the companies\n",
        "hq"
      ]
    },
    {
      "cell_type": "code",
      "execution_count": 17,
      "metadata": {
        "colab": {
          "base_uri": "https://localhost:8080/"
        },
        "id": "ATjSsK9DBEaa",
        "outputId": "856d5192-0b1a-451c-a06d-5c0808dd7530"
      },
      "outputs": [
        {
          "output_type": "execute_result",
          "data": {
            "text/plain": [
              "['55 years old',\n",
              " '34 years old',\n",
              " '29 years old',\n",
              " '29 years old',\n",
              " '29 years old',\n",
              " '78 years old',\n",
              " '42 years old',\n",
              " '56 years old',\n",
              " '37 years old',\n",
              " '26 years old',\n",
              " '32 years old',\n",
              " '29 years old',\n",
              " '30 years old',\n",
              " '40 years old',\n",
              " '112 years old',\n",
              " '16 years old',\n",
              " '77 years old',\n",
              " '16 years old',\n",
              " '5 years old',\n",
              " '45 years old',\n",
              " '17 years old',\n",
              " '20 years old',\n",
              " '50 years old',\n",
              " '178 years old',\n",
              " '28 years old',\n",
              " '12 years old',\n",
              " '78 years old',\n",
              " '16 years old',\n",
              " '27 years old',\n",
              " '29 years old']"
            ]
          },
          "metadata": {},
          "execution_count": 17
        }
      ],
      "source": [
        "# Stablished time (years)\n",
        "how_old"
      ]
    },
    {
      "cell_type": "code",
      "execution_count": 18,
      "metadata": {
        "colab": {
          "base_uri": "https://localhost:8080/"
        },
        "id": "JDFD0qWlBIVK",
        "outputId": "b9c2fc2d-d0df-4bb0-eb42-2c71b11f5731"
      },
      "outputs": [
        {
          "output_type": "execute_result",
          "data": {
            "text/plain": [
              "['1 Lakh+ Employees (India)',\n",
              " '1 Lakh+ Employees (India)',\n",
              " '1 Lakh+ Employees (India)',\n",
              " '1 Lakh+ Employees (India)',\n",
              " '50k-1 Lakh Employees (India)',\n",
              " '1 Lakh+ Employees (India)',\n",
              " '1 Lakh+ Employees (India)',\n",
              " '1 Lakh+ Employees (India)',\n",
              " '50k-1 Lakh Employees (India)',\n",
              " '50k-1 Lakh Employees (India)',\n",
              " '1 Lakh+ Employees (India)',\n",
              " '1 Lakh+ Employees (India)',\n",
              " '50k-1 Lakh Employees (India)',\n",
              " '10k-50k Employees (India)',\n",
              " '1 Lakh+ Employees (India)',\n",
              " '50k-1 Lakh Employees (India)',\n",
              " '10k-50k Employees (India)',\n",
              " '1 Lakh+ Employees (India)',\n",
              " '10k-50k Employees (India)',\n",
              " '50k-1 Lakh Employees (India)',\n",
              " '1 Lakh+ Employees (India)',\n",
              " '10k-50k Employees (India)',\n",
              " '10k-50k Employees (India)',\n",
              " '10k-50k Employees (India)',\n",
              " '10k-50k Employees (India)',\n",
              " '1k-5k Employees (India)',\n",
              " '10k-50k Employees (India)',\n",
              " '10k-50k Employees (India)',\n",
              " '10k-50k Employees (India)',\n",
              " '10k-50k Employees (India)']"
            ]
          },
          "metadata": {},
          "execution_count": 18
        }
      ],
      "source": [
        "no_of_employee"
      ]
    },
    {
      "cell_type": "code",
      "execution_count": 19,
      "metadata": {
        "colab": {
          "base_uri": "https://localhost:8080/"
        },
        "id": "3lk-6yprBMJT",
        "outputId": "ed34b114-be0d-43b3-dd10-f746703b2bb3"
      },
      "outputs": [
        {
          "output_type": "execute_result",
          "data": {
            "text/plain": [
              "(30, 7)"
            ]
          },
          "metadata": {},
          "execution_count": 19
        }
      ],
      "source": [
        "df.shape"
      ]
    },
    {
      "cell_type": "code",
      "execution_count": 20,
      "metadata": {
        "id": "TijbG-6_BQji"
      },
      "outputs": [],
      "source": [
        "final=pd.DataFrame()\n",
        "for j in range(1,1001):\n",
        "  webpage=requests.get('https://www.ambitionbox.com/list-of-companies?page={}'.format(j)).text\n",
        "  soup=BeautifulSoup(webpage,'lxml')\n",
        "  company=soup.find_all('div',class_='company-content-wrapper')\n",
        "  name=[]\n",
        "  rating=[]\n",
        "  reviews=[]\n",
        "  ctype=[]\n",
        "  hq=[]\n",
        "  how_old=[]\n",
        "  no_of_employee=[]\n",
        "\n",
        "  for i in company:\n",
        "\n",
        "    try:\n",
        "       name.append(i.find('h2').text.strip())\n",
        "    except:\n",
        "       name.append(np.nan)\n",
        "\n",
        "    try:\n",
        "       rating.append(i.find('p',class_='rating').text.strip())\n",
        "    except:\n",
        "       rating.append(np.nan)\n",
        "   \n",
        "    try:\n",
        "\n",
        "      reviews.append(i.find('a' , class_='review-count').text.strip())\n",
        "    except:\n",
        "      reviews.append(np.nan)\n",
        "\n",
        "    try:\n",
        "\n",
        "      ctype.append(i.find_all('p',class_='infoEntity')[0].text.strip())\n",
        "    except:\n",
        "      ctype.append(np.nan)\n",
        "    try:\n",
        "\n",
        "      hq.append(i.find_all('p',class_='infoEntity')[1].text.strip())\n",
        "    except:\n",
        "      hq.append(np.nan)\n",
        "    \n",
        "    try:\n",
        "\n",
        "      how_old.append(i.find_all('p',class_='infoEntity')[2].text.strip())\n",
        "    except:\n",
        "      how_old.append(np.nan)\n",
        "    try:\n",
        "      no_of_employee.append(i.find_all('p',class_='infoEntity')[3].text.strip())\n",
        "    except:\n",
        "      no_of_employee.append(np.nan)\n",
        "    \n",
        "\n",
        "  df=pd.DataFrame({'name':name,\n",
        "    'rating':rating,\n",
        "    'reviews':reviews,\n",
        "    'company_type':ctype,\n",
        "    'Head_Quarters':hq,\n",
        "    'Company_Age':how_old,\n",
        "    'No_of_Employee':no_of_employee,\n",
        "    })\n",
        "  \n",
        "  final=final.append(df,ignore_index=True)"
      ]
    },
    {
      "cell_type": "code",
      "execution_count": 22,
      "metadata": {
        "id": "d5mP-weZBoL-"
      },
      "outputs": [],
      "source": [
        "# Scraping data done apply below code.\n",
        "#df.head()\n",
        "#df.sample(5)\n",
        "#df.shape\n",
        "#final.shape"
      ]
    },
    {
      "cell_type": "code",
      "execution_count": 21,
      "metadata": {
        "id": "DJbjOBrPDXDP"
      },
      "outputs": [],
      "source": []
    }
  ],
  "metadata": {
    "colab": {
      "provenance": []
    },
    "kernelspec": {
      "display_name": "Python 3",
      "name": "python3"
    },
    "language_info": {
      "name": "python"
    }
  },
  "nbformat": 4,
  "nbformat_minor": 0
}